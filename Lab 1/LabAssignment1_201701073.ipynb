{
  "nbformat": 4,
  "nbformat_minor": 0,
  "metadata": {
    "colab": {
      "name": "LabAssignment1_201701073.ipynb",
      "provenance": [],
      "collapsed_sections": [],
      "authorship_tag": "ABX9TyMC4Z5z8WF7B+Jt3/ITXbYa",
      "include_colab_link": true
    },
    "kernelspec": {
      "name": "python3",
      "display_name": "Python 3"
    },
    "accelerator": "GPU"
  },
  "cells": [
    {
      "cell_type": "markdown",
      "metadata": {
        "id": "view-in-github",
        "colab_type": "text"
      },
      "source": [
        "<a href=\"https://colab.research.google.com/github/purvilmehta06/Deep-Learning/blob/master/LabAssignment1_201701073.ipynb\" target=\"_parent\"><img src=\"https://colab.research.google.com/assets/colab-badge.svg\" alt=\"Open In Colab\"/></a>"
      ]
    },
    {
      "cell_type": "markdown",
      "metadata": {
        "id": "dDlPKzvZJAna",
        "colab_type": "text"
      },
      "source": [
        "# Lab 1: Deep Learning\n",
        "\n",
        "\n",
        "*   Lab Manual: [Manual Lab 1](https://drive.google.com/file/d/18lqn4VeYghkPFgLQcyToFlZlPMy2QhOP/view)\n",
        "*   Author: Purvil Mehta\n",
        "*   Id : 201701073\n",
        "* Github Link : [Deep Learning Course Lab Work Repo](https://github.com/purvilmehta06/Deep-Learning)\n",
        "\n"
      ]
    },
    {
      "cell_type": "markdown",
      "metadata": {
        "id": "KLp3ze6BKog5",
        "colab_type": "text"
      },
      "source": [
        "## Importing Libraries\n",
        "Since the whole lab is about to understand the [Tensorflow](https://www.tensorflow.org/), I imported main two libraries. \n",
        "1. Tensorflow\n",
        "2. Math (Pi inclusion)"
      ]
    },
    {
      "cell_type": "code",
      "metadata": {
        "id": "5dZ_DKt32V1T",
        "colab_type": "code",
        "colab": {}
      },
      "source": [
        "import tensorflow as tf\n",
        "import math as math"
      ],
      "execution_count": 150,
      "outputs": []
    },
    {
      "cell_type": "markdown",
      "metadata": {
        "id": "vrlTae_qLSPq",
        "colab_type": "text"
      },
      "source": [
        "##Function 1 Implementation \n",
        "\n"
      ]
    },
    {
      "cell_type": "code",
      "metadata": {
        "id": "ds3cb4pu35Kw",
        "colab_type": "code",
        "colab": {
          "base_uri": "https://localhost:8080/",
          "height": 67
        },
        "outputId": "ea3326da-1467-4260-d632-cba1f98985e1"
      },
      "source": [
        "def function1(n,x):\n",
        "  sum = tf.Variable(0.0, dtype=tf.float64) \n",
        "  constant = tf.constant(1,dtype=tf.float64)\n",
        "  for i in range(2,n+1):\n",
        "    #Type cast is required because pow returns int32\n",
        "    a = tf.dtypes.cast(tf.math.pow(-1,i),dtype=tf.float64)\n",
        "    b = tf.dtypes.cast(tf.math.pow(i,2),dtype=tf.float64)\n",
        "    sum =sum + tf.math.divide(constant + a, constant+ b)*tf.math.cos(tf.dtypes.cast(i*x,dtype=tf.float64))\n",
        "  sum = tf.math.divide(tf.constant(2,dtype=tf.float64),math.pi)*(1 - sum)\n",
        "  return sum\n",
        "\n",
        "#Testing the function on different values of n and x\n",
        "n = [20,50,100]\n",
        "for i in range(len(n)):\n",
        "  print(\"(n,x) = (\"+str(n[i])+\" \"+str(1)+\")\",function1(n[i],1))"
      ],
      "execution_count": 151,
      "outputs": [
        {
          "output_type": "stream",
          "text": [
            "(n,x) = (20 1) tf.Tensor(0.7645009747324029, shape=(), dtype=float64)\n",
            "(n,x) = (50 1) tf.Tensor(0.7657823850497457, shape=(), dtype=float64)\n",
            "(n,x) = (100 1) tf.Tensor(0.765938789511261, shape=(), dtype=float64)\n"
          ],
          "name": "stdout"
        }
      ]
    },
    {
      "cell_type": "markdown",
      "metadata": {
        "id": "itBxgZ0oLd-7",
        "colab_type": "text"
      },
      "source": [
        "##Function 2 Implementation \n",
        "\n"
      ]
    },
    {
      "cell_type": "code",
      "metadata": {
        "id": "iwEaID2AEI43",
        "colab_type": "code",
        "colab": {}
      },
      "source": [
        "# This is supportive fuction which calculates the factorial of a given number\n",
        "\n",
        "def factorial(n):\n",
        "  res = tf.Variable(1,dtype = tf.float64)\n",
        "  for i in range(1,n+1):\n",
        "    res = res*i\n",
        "  return res"
      ],
      "execution_count": 152,
      "outputs": []
    },
    {
      "cell_type": "code",
      "metadata": {
        "id": "buGYYm8N7j2w",
        "colab_type": "code",
        "colab": {
          "base_uri": "https://localhost:8080/",
          "height": 67
        },
        "outputId": "522f42b8-ea60-4280-9473-99a2b14fac13"
      },
      "source": [
        "def function2(n,x):\n",
        "  sum = tf.Variable(0.0, dtype=tf.float64) \n",
        "  for i in range(n+1):\n",
        "    #Type cast is required because pow returns int32\n",
        "    a = tf.dtypes.cast(tf.math.pow(-1,i),dtype=tf.float64)  \n",
        "    b = tf.dtypes.cast(tf.math.pow(x,2*i),dtype=tf.float64)\n",
        "    sum =sum + tf.math.divide(a*b, factorial(2*i))\n",
        "  return sum\n",
        "  \n",
        "#Testing the function on different values of n and x\n",
        "n = [2,5,10]\n",
        "for i in range(len(n)):\n",
        "  print(\"(n,x) = (\"+str(n[i])+\" \"+str(0.5)+\")\",function2(n[i],0.5))"
      ],
      "execution_count": 153,
      "outputs": [
        {
          "output_type": "stream",
          "text": [
            "(n,x) = (2 0.5) tf.Tensor(0.8776041666666666, shape=(), dtype=float64)\n",
            "(n,x) = (5 0.5) tf.Tensor(0.8775825618898637, shape=(), dtype=float64)\n",
            "(n,x) = (10 0.5) tf.Tensor(0.8775825618903728, shape=(), dtype=float64)\n"
          ],
          "name": "stdout"
        }
      ]
    },
    {
      "cell_type": "markdown",
      "metadata": {
        "id": "UylabpgULfvs",
        "colab_type": "text"
      },
      "source": [
        "##Function 3 Implementation \n"
      ]
    },
    {
      "cell_type": "code",
      "metadata": {
        "id": "V32EiKA8DyzJ",
        "colab_type": "code",
        "colab": {
          "base_uri": "https://localhost:8080/",
          "height": 67
        },
        "outputId": "5d49287e-d4bf-4300-9189-c8fdee47804f"
      },
      "source": [
        "def function3(n,x):\n",
        "  sum = tf.Variable(0.0, dtype=tf.float64) \n",
        "  for i in range(n+1):\n",
        "    #Type cast is required because pow returns int32\n",
        "    a = tf.dtypes.cast(tf.math.pow(4,i),dtype=tf.float64)\n",
        "    b = tf.dtypes.cast(tf.math.pow(factorial(i),2),dtype=tf.float64)\n",
        "    c = tf.dtypes.cast(tf.math.pow(x,2*i+1),dtype=tf.float64)\n",
        "    sum =sum + tf.math.divide(factorial(2*i),a*b*(2*i+1))*c\n",
        "  return sum\n",
        "\n",
        "#Testing the function on different values of n and x\n",
        "n = [2,5,10]\n",
        "for i in range(len(n)):\n",
        "  print(\"(n,x) = (\"+str(n[i])+\" \"+str(0.7)+\")\",function3(n[i],0.7))"
      ],
      "execution_count": 154,
      "outputs": [
        {
          "output_type": "stream",
          "text": [
            "(n,x) = (2 0.7) tf.Tensor(0.7697718384365241, shape=(), dtype=float64)\n",
            "(n,x) = (5 0.7) tf.Tensor(0.7751167605499562, shape=(), dtype=float64)\n",
            "(n,x) = (10 0.7) tf.Tensor(0.7753938752103757, shape=(), dtype=float64)\n"
          ],
          "name": "stdout"
        }
      ]
    }
  ]
}

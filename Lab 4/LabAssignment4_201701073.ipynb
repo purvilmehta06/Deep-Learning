{
  "nbformat": 4,
  "nbformat_minor": 0,
  "metadata": {
    "colab": {
      "name": "LabAssignment4_201701073.ipynb",
      "provenance": [],
      "collapsed_sections": [],
      "toc_visible": true,
      "mount_file_id": "1_oT2tPA2a6nTWvcxBnBL8KX0pOMmTUza",
      "authorship_tag": "ABX9TyNzYPzyYaieG8u80h6t5hNH",
      "include_colab_link": true
    },
    "kernelspec": {
      "name": "python3",
      "display_name": "Python 3"
    },
    "accelerator": "GPU"
  },
  "cells": [
    {
      "cell_type": "markdown",
      "metadata": {
        "id": "view-in-github",
        "colab_type": "text"
      },
      "source": [
        "<a href=\"https://colab.research.google.com/github/purvilmehta06/Deep-Learning/blob/master/Lab%204/LabAssignment4_201701073.ipynb\" target=\"_parent\"><img src=\"https://colab.research.google.com/assets/colab-badge.svg\" alt=\"Open In Colab\"/></a>"
      ]
    },
    {
      "cell_type": "markdown",
      "metadata": {
        "id": "WsvYcwKTG52N",
        "colab_type": "text"
      },
      "source": [
        "# Lab 4: Deep Learning\n",
        "\n",
        "\n",
        "*   Lab Manual: [Manual Lab 4](https://github.com/purvilmehta06/Deep-Learning/blob/master/Lab%204/Lab_Assignment_4.pdf)\n",
        "*   Author: Purvil Mehta\n",
        "*   Id : 201701073\n",
        "*   Github Link : [Deep Learning Course Lab Work Repo](https://github.com/purvilmehta06/Deep-Learning)"
      ]
    },
    {
      "cell_type": "markdown",
      "metadata": {
        "id": "x578-PtFcpKM",
        "colab_type": "text"
      },
      "source": [
        "# Importing Libraries"
      ]
    },
    {
      "cell_type": "code",
      "metadata": {
        "id": "JyYbCvGg2ewi",
        "colab_type": "code",
        "colab": {}
      },
      "source": [
        "from tensorflow.keras.models import Sequential\n",
        "from tensorflow.keras.layers import Dense\n",
        "import pandas as pd\n",
        "import numpy as np\n",
        "import matplotlib.pyplot as plt\n",
        "from sklearn.model_selection import KFold\n",
        "from sklearn.preprocessing import StandardScaler\n",
        "from tensorflow.python.keras import regularizers"
      ],
      "execution_count": 23,
      "outputs": []
    },
    {
      "cell_type": "markdown",
      "metadata": {
        "id": "Jak71tU_ct0m",
        "colab_type": "text"
      },
      "source": [
        "# Loading Dataset"
      ]
    },
    {
      "cell_type": "code",
      "metadata": {
        "id": "ZySdn8aEJDNq",
        "colab_type": "code",
        "colab": {}
      },
      "source": [
        "# load training dataset\n",
        "x_train = pd.read_csv(\"drive/My Drive/Colab Notebooks/Lab 3 Data/x_train.csv\")\n",
        "y_train = pd.read_csv(\"drive/My Drive/Colab Notebooks/Lab 3 Data/y_train.csv\")\n",
        "\n",
        "x_train = np.array(x_train)\n",
        "y_train = np.array(y_train)\n",
        "\n",
        "sc = StandardScaler()\n",
        "x_train = sc.fit_transform(x_train)\n",
        "\n",
        "#Load testing dataset\n",
        "\n",
        "x_test = pd.read_csv(\"drive/My Drive/Colab Notebooks/Lab 3 Data/x_test.csv\")\n",
        "y_test = pd.read_csv(\"drive/My Drive/Colab Notebooks/Lab 3 Data/y_test.csv\")\n",
        "\n",
        "x_test = np.array(x_test)\n",
        "y_test = np.array(y_test)\n",
        "\n",
        "sc = StandardScaler()\n",
        "x_test = sc.fit_transform(x_test)\n",
        "\n",
        "#loading validation dataset\n",
        "x_val = pd.read_csv(\"drive/My Drive/Colab Notebooks/Lab 3 Data/x_valid.csv\")\n",
        "y_val = pd.read_csv(\"drive/My Drive/Colab Notebooks/Lab 3 Data/y_valid.csv\")\n",
        "\n",
        "x_val = np.array(x_val)\n",
        "y_val = np.array(y_val)\n",
        "\n",
        "sc = StandardScaler()\n",
        "x_val = sc.fit_transform(x_val)"
      ],
      "execution_count": 24,
      "outputs": []
    },
    {
      "cell_type": "markdown",
      "metadata": {
        "id": "9ghGl04kRgQh",
        "colab_type": "text"
      },
      "source": [
        "# Modelwise General Implementation "
      ]
    },
    {
      "cell_type": "code",
      "metadata": {
        "id": "fMMjQWxCGYpU",
        "colab_type": "code",
        "colab": {}
      },
      "source": [
        "def model1():\n",
        "  model = Sequential()\n",
        "  mse = []\n",
        "  model.add(Dense(5,input_dim=4, activation='relu'))\n",
        "  model.add(Dense(1, activation='relu'))\n",
        "  model.get_layer(index=0)\n",
        "  return model"
      ],
      "execution_count": 3,
      "outputs": []
    },
    {
      "cell_type": "code",
      "metadata": {
        "id": "kS_5YD3kHF1U",
        "colab_type": "code",
        "colab": {}
      },
      "source": [
        "def model2():\n",
        "  model = Sequential()\n",
        "  mse = []\n",
        "  model.add(Dense(10,input_dim=4, activation='relu'))\n",
        "  model.add(Dense(1, activation='relu'))\n",
        "  model.get_layer(index=0)\n",
        "  return model"
      ],
      "execution_count": 4,
      "outputs": []
    },
    {
      "cell_type": "code",
      "metadata": {
        "id": "bhdlzn66HFm2",
        "colab_type": "code",
        "colab": {}
      },
      "source": [
        "def model3():\n",
        "  model = Sequential()\n",
        "  model.add(Dense(5,input_dim=4, activation='relu'))\n",
        "  model.add(Dense(10, activation='relu'))\n",
        "  model.add(Dense(5, activation='relu'))\n",
        "  model.add(Dense(1, activation='relu'))\n",
        "  model.get_layer(index=0)\n",
        "  return model"
      ],
      "execution_count": 5,
      "outputs": []
    },
    {
      "cell_type": "markdown",
      "metadata": {
        "id": "IR-lmW8Lczr9",
        "colab_type": "text"
      },
      "source": [
        "# Que 1"
      ]
    },
    {
      "cell_type": "markdown",
      "metadata": {
        "id": "QBd2yZh9c2lN",
        "colab_type": "text"
      },
      "source": [
        "## Model 1"
      ]
    },
    {
      "cell_type": "code",
      "metadata": {
        "id": "LPTfuRlZJ-n7",
        "colab_type": "code",
        "colab": {
          "base_uri": "https://localhost:8080/",
          "height": 329
        },
        "outputId": "6c69b944-0dc3-479f-c362-cbdcc1f357bc"
      },
      "source": [
        "model = model1()\n",
        "model.compile(loss='mse', optimizer='adam', metrics=['mse'])\n",
        "history_model1 = model.fit(x_train, y_train, epochs=300, batch_size=8,verbose=0)\n",
        "\n",
        "plt.plot(history_model1.history['mse'])\n",
        "plt.title('Validation loss history')\n",
        "plt.ylabel('Loss value')\n",
        "plt.xlabel('No. epoch')\n",
        "plt.show()\n",
        "\n",
        "mse_train = model.evaluate(x_train,y_train,verbose=0)[1]\n",
        "mse_test = model.evaluate(x_test,y_test,verbose=0)[1]\n",
        "\n",
        "print(\"Training MSE: {}\".format(mse_train))\n",
        "print(\"Testing MSE : {}\".format(mse_test))"
      ],
      "execution_count": null,
      "outputs": [
        {
          "output_type": "display_data",
          "data": {
            "image/png": "[encoded data removed]",
            "text/plain": [
              "<Figure size 432x288 with 1 Axes>"
            ]
          },
          "metadata": {
            "tags": [],
            "needs_background": "light"
          }
        },
        {
          "output_type": "stream",
          "text": [
            "Training MSE: 14.75821590423584\n",
            "Testing MSE : 15.300559043884277\n"
          ],
          "name": "stdout"
        }
      ]
    },
    {
      "cell_type": "markdown",
      "metadata": {
        "id": "HIGk6j3ic7AJ",
        "colab_type": "text"
      },
      "source": [
        "## Model 2"
      ]
    },
    {
      "cell_type": "code",
      "metadata": {
        "id": "298Kdt70VXV9",
        "colab_type": "code",
        "colab": {
          "base_uri": "https://localhost:8080/",
          "height": 329
        },
        "outputId": "a993df4e-0620-4f93-d45c-eade5de3cc17"
      },
      "source": [
        "model = model2()\n",
        "\n",
        "model.compile(loss='mse', optimizer='adam', metrics=['mse'])\n",
        "history_model2 = model.fit(x_train, y_train, epochs=300, batch_size=8,verbose=0)\n",
        "\n",
        "plt.plot(history_model2.history['mse'])\n",
        "plt.title('Validation loss history')\n",
        "plt.ylabel('Loss value')\n",
        "plt.xlabel('No. epoch')\n",
        "plt.show()\n",
        "\n",
        "mse_train = model.evaluate(x_train,y_train,verbose=0)[1]\n",
        "mse_test = model.evaluate(x_test,y_test,verbose=0)[1]\n",
        "\n",
        "print(\"Training MSE: {}\".format(mse_train))\n",
        "print(\"Testing MSE : {}\".format(mse_test))"
      ],
      "execution_count": null,
      "outputs": [
        {
          "output_type": "display_data",
          "data": {
            "image/png": "[encoded data removed]",
            "text/plain": [
              "<Figure size 432x288 with 1 Axes>"
            ]
          },
          "metadata": {
            "tags": [],
            "needs_background": "light"
          }
        },
        {
          "output_type": "stream",
          "text": [
            "Training MSE: 14.411979675292969\n",
            "Testing MSE : 14.726624488830566\n"
          ],
          "name": "stdout"
        }
      ]
    },
    {
      "cell_type": "markdown",
      "metadata": {
        "id": "yYkj3IOoc8av",
        "colab_type": "text"
      },
      "source": [
        "## Model 3"
      ]
    },
    {
      "cell_type": "code",
      "metadata": {
        "id": "LaemZRdHalfY",
        "colab_type": "code",
        "colab": {
          "base_uri": "https://localhost:8080/",
          "height": 329
        },
        "outputId": "1f437e3a-6c19-415c-ae3a-5913d3fb706e"
      },
      "source": [
        "model = model3()\n",
        "model.compile(loss='mse', optimizer='adam', metrics=['mse'])\n",
        "history_model3 = model.fit(x_train, y_train, epochs=300, batch_size=8,verbose=0)\n",
        "\n",
        "plt.plot(history_model3.history['mse'])\n",
        "plt.title('Validation loss history')\n",
        "plt.ylabel('Loss value')\n",
        "plt.xlabel('No. epoch')\n",
        "plt.show()\n",
        "\n",
        "mse_train = model.evaluate(x_train,y_train,verbose=0)[1]\n",
        "mse_test = model.evaluate(x_test,y_test,verbose=0)[1]\n",
        "\n",
        "print(\"Training MSE: {}\".format(mse_train))\n",
        "print(\"Testing MSE : {}\".format(mse_test))"
      ],
      "execution_count": null,
      "outputs": [
        {
          "output_type": "display_data",
          "data": {
            "image/png": "[encoded data removed]",
            "text/plain": [
              "<Figure size 432x288 with 1 Axes>"
            ]
          },
          "metadata": {
            "tags": [],
            "needs_background": "light"
          }
        },
        {
          "output_type": "stream",
          "text": [
            "Training MSE: 13.657844543457031\n",
            "Testing MSE : 14.955949783325195\n"
          ],
          "name": "stdout"
        }
      ]
    },
    {
      "cell_type": "markdown",
      "metadata": {
        "id": "vz3FeXHbhP-6",
        "colab_type": "text"
      },
      "source": [
        "# Que 2"
      ]
    },
    {
      "cell_type": "markdown",
      "metadata": {
        "id": "htsQ1GZXqXLs",
        "colab_type": "text"
      },
      "source": [
        "## General KFOLD cross entropy function"
      ]
    },
    {
      "cell_type": "code",
      "metadata": {
        "id": "Tf8RTz92FWLY",
        "colab_type": "code",
        "colab": {}
      },
      "source": [
        "def k_Fold(epochs,num_folds,x_train,x_val,y_train,y_val,modelNo):\n",
        "  \n",
        "  lossPerFold = []\n",
        "  final_mse = []\n",
        "  \n",
        "  inputs = np.concatenate((x_train, x_val), axis=0)[2:,:]\n",
        "  targets = np.concatenate((y_train, y_val), axis=0)[2:]\n",
        "\n",
        "  # shuffler = np.random.permutation(len(inputs))\n",
        "  # inputs = inputs[shuffler]\n",
        "  # targets = targets[shuffler]\n",
        "  kfold = KFold(n_splits=num_folds, shuffle=True)\n",
        "\n",
        "  # K-fold Cross Validation model evaluation\n",
        "  fold_no = 1\n",
        "  for train, test in kfold.split(inputs, targets):\n",
        "    mse = []\n",
        "    if (modelNo == 1):\n",
        "      model = model1()\n",
        "    elif (modelNo == 2):\n",
        "      model = model2()\n",
        "    else:\n",
        "      model = model3()\n",
        "    model.compile(loss='mse', optimizer='adam', metrics=['mse'])\n",
        "    #for k in range(epochs):\n",
        "    history_model1 = model.fit(inputs[train], targets[train], epochs=epochs,verbose=0,batch_size=10,validation_data = (inputs[test],targets[test]))\n",
        "    #scores = model.evaluate(inputs[test], targets[test], verbose=0)\n",
        "    #mse.append(scores[1])\n",
        "      \n",
        "    # Generate generalization metrics\n",
        "    \n",
        "    final_mse.append(history_model1.history['val_mse']);\n",
        "    lossPerFold.append(final_mse[fold_no-1][epochs-1])\n",
        "    print(f'[{modelNo}] Score for fold {fold_no}: {model.metrics_names[1]} of {final_mse[fold_no-1][epochs-1]}')\n",
        "    # Increase fold number\n",
        "    fold_no = fold_no + 1\n",
        "\n",
        "  \n",
        "  # == Provide average scores ==\n",
        "  print('[{}] Average scores for all folds: {}'.format(modelNo,np.mean(lossPerFold)))\n",
        "  return final_mse"
      ],
      "execution_count": null,
      "outputs": []
    },
    {
      "cell_type": "markdown",
      "metadata": {
        "id": "89MKG1s6qLrU",
        "colab_type": "text"
      },
      "source": [
        "## Model 1"
      ]
    },
    {
      "cell_type": "code",
      "metadata": {
        "id": "1COhyY7iF0Eg",
        "colab_type": "code",
        "colab": {
          "base_uri": "https://localhost:8080/",
          "height": 202
        },
        "outputId": "dc34b3c2-d447-4403-f628-44fdfa3ba1cf"
      },
      "source": [
        "epochs_model1 = 300\n",
        "epochs_model2 = 300\n",
        "epochs_model3 = 300\n",
        "folds = 10 \n",
        "\n",
        "# Last argument stands for the model number\n",
        "ans1 = k_Fold(epochs_model1,folds,x_train,x_val,y_train,y_val,1); "
      ],
      "execution_count": null,
      "outputs": [
        {
          "output_type": "stream",
          "text": [
            "[1] Score for fold 1: mse of 17.299606323242188\n",
            "[1] Score for fold 2: mse of 18.185937881469727\n",
            "[1] Score for fold 3: mse of 11.583671569824219\n",
            "[1] Score for fold 4: mse of 13.402042388916016\n",
            "[1] Score for fold 5: mse of 31.521080017089844\n",
            "[1] Score for fold 6: mse of 10.645840644836426\n",
            "[1] Score for fold 7: mse of 16.65315055847168\n",
            "[1] Score for fold 8: mse of 16.76543617248535\n",
            "[1] Score for fold 9: mse of 11.134197235107422\n",
            "[1] Score for fold 10: mse of 13.324420928955078\n",
            "[1] Average scores for all folds: 16.051538372039794\n"
          ],
          "name": "stdout"
        }
      ]
    },
    {
      "cell_type": "markdown",
      "metadata": {
        "id": "lfKnQkagqNxN",
        "colab_type": "text"
      },
      "source": [
        "## Model 2"
      ]
    },
    {
      "cell_type": "code",
      "metadata": {
        "id": "QO7CpDoW1_Yn",
        "colab_type": "code",
        "colab": {
          "base_uri": "https://localhost:8080/",
          "height": 202
        },
        "outputId": "96b57f64-a78b-4656-9e92-2bfd1e41ef57"
      },
      "source": [
        "ans2 = k_Fold(epochs_model2,folds,x_train,x_val,y_train,y_val,2); "
      ],
      "execution_count": null,
      "outputs": [
        {
          "output_type": "stream",
          "text": [
            "[2] Score for fold 1: mse of 13.347832679748535\n",
            "[2] Score for fold 2: mse of 12.78521728515625\n",
            "[2] Score for fold 3: mse of 12.212196350097656\n",
            "[2] Score for fold 4: mse of 6.805118083953857\n",
            "[2] Score for fold 5: mse of 21.046159744262695\n",
            "[2] Score for fold 6: mse of 9.850756645202637\n",
            "[2] Score for fold 7: mse of 20.81561851501465\n",
            "[2] Score for fold 8: mse of 14.825030326843262\n",
            "[2] Score for fold 9: mse of 17.322650909423828\n",
            "[2] Score for fold 10: mse of 30.119583129882812\n",
            "[2] Average scores for all folds: 15.913016366958619\n"
          ],
          "name": "stdout"
        }
      ]
    },
    {
      "cell_type": "markdown",
      "metadata": {
        "id": "46P5mC6JqO_e",
        "colab_type": "text"
      },
      "source": [
        "## Model 3"
      ]
    },
    {
      "cell_type": "code",
      "metadata": {
        "id": "gjKzNDeuOZag",
        "colab_type": "code",
        "colab": {
          "base_uri": "https://localhost:8080/",
          "height": 202
        },
        "outputId": "9aa9a052-f45c-4a3c-dffe-6a2d2afe20d4"
      },
      "source": [
        "ans3 = k_Fold(300,10,x_train,x_val,y_train,y_val,3); "
      ],
      "execution_count": null,
      "outputs": [
        {
          "output_type": "stream",
          "text": [
            "[3] Score for fold 1: mse of 15.459888458251953\n",
            "[3] Score for fold 2: mse of 13.214339256286621\n",
            "[3] Score for fold 3: mse of 19.502769470214844\n",
            "[3] Score for fold 4: mse of 27.03596305847168\n",
            "[3] Score for fold 5: mse of 6.783481121063232\n",
            "[3] Score for fold 6: mse of 10.587632179260254\n",
            "[3] Score for fold 7: mse of 15.553061485290527\n",
            "[3] Score for fold 8: mse of 7.312789440155029\n",
            "[3] Score for fold 9: mse of 12.318994522094727\n",
            "[3] Score for fold 10: mse of 32.225059509277344\n",
            "[3] Average scores for all folds: 15.99939785003662\n"
          ],
          "name": "stdout"
        }
      ]
    },
    {
      "cell_type": "markdown",
      "metadata": {
        "id": "Z0M0WJWuqQki",
        "colab_type": "text"
      },
      "source": [
        "## Collecing Result and Plot"
      ]
    },
    {
      "cell_type": "code",
      "metadata": {
        "id": "tocEdQ1iOaZE",
        "colab_type": "code",
        "colab": {
          "base_uri": "https://localhost:8080/",
          "height": 295
        },
        "outputId": "2b918342-300d-47e8-a564-e26f0598d7c5"
      },
      "source": [
        "plt.grid()\n",
        "plt.plot(np.mean(ans1, axis=0))\n",
        "plt.plot(np.mean(ans2, axis=0))\n",
        "plt.plot(np.mean(ans3, axis=0))\n",
        "plt.title('Validation loss history')\n",
        "plt.ylabel('Loss value')\n",
        "plt.xlabel('No. epoch')\n",
        "plt.legend(['Model 1','Model 2','Model 3'])\n",
        "plt.show()"
      ],
      "execution_count": null,
      "outputs": [
        {
          "output_type": "display_data",
          "data": {
            "image/png": "[encoded data removed]",
            "text/plain": [
              "<Figure size 432x288 with 1 Axes>"
            ]
          },
          "metadata": {
            "tags": [],
            "needs_background": "light"
          }
        }
      ]
    },
    {
      "cell_type": "markdown",
      "metadata": {
        "id": "zIgX7lGaTsG_",
        "colab_type": "text"
      },
      "source": [
        "# Que 3\n"
      ]
    },
    {
      "cell_type": "markdown",
      "metadata": {
        "id": "Y9Be6vFpTudF",
        "colab_type": "text"
      },
      "source": [
        "## Model 1"
      ]
    },
    {
      "cell_type": "code",
      "metadata": {
        "id": "-Uz8Y2AwO7P4",
        "colab_type": "code",
        "colab": {
          "base_uri": "https://localhost:8080/",
          "height": 252
        },
        "outputId": "59516b80-341a-4a77-9b8e-bc504b110a00"
      },
      "source": [
        "from tensorflow.python.keras import regularizers\n",
        "lemda = [1e-6,1e-5,1e-4,1e-3,1e-2,1e-1,1]\n",
        "mse_train = []\n",
        "mse_test = []\n",
        "num_folds = 10\n",
        "epochs = 100\n",
        "\n",
        "for i in range(len(lemda)):\n",
        "\n",
        "  inputs = np.concatenate((x_train, x_val), axis=0)[2:,:]\n",
        "  targets = np.concatenate((y_train, y_val), axis=0)[2:]\n",
        "  kfold = KFold(n_splits=num_folds, shuffle=True)\n",
        "  fold_no = 1\n",
        "  for train, test in kfold.split(inputs, targets):\n",
        "    model = Sequential()\n",
        "    model.add(Dense(5,input_dim=4, activation='relu',kernel_regularizer=regularizers.l2(lemda[i])))\n",
        "    print('\\r',fold_no,end='')\n",
        "    model.add(Dense(1, activation='relu',kernel_regularizer=regularizers.l2(lemda[i])))\n",
        "    model.get_layer(index=0)\n",
        "    model.compile(loss='mse', optimizer='adam', metrics=['mse'])\n",
        "    history_model1 = model.fit(inputs[train], targets[train], epochs=epochs,verbose=0,batch_size=10,validation_data = (inputs[test],targets[test]))    \n",
        "    fold_no = fold_no + 1\n",
        "\n",
        "\n",
        "  mse_train.append(model.evaluate(x_train,y_train,verbose=0)[1])\n",
        "  mse_test.append(model.evaluate(x_test,y_test,verbose=0)[1])\n",
        "\n",
        "  print(\"Training MSE: {}\".format(mse_train[i]))\n",
        "  print(\"Testing MSE : {}\".format(mse_test[i]))"
      ],
      "execution_count": 10,
      "outputs": [
        {
          "output_type": "stream",
          "text": [
            " 10Training MSE: 18.9089298248291\n",
            "Testing MSE : 18.441234588623047\n",
            " 10Training MSE: 16.623912811279297\n",
            "Testing MSE : 17.90229034423828\n",
            " 10Training MSE: 20.063823699951172\n",
            "Testing MSE : 21.75527572631836\n",
            " 10Training MSE: 27.696670532226562\n",
            "Testing MSE : 33.80617904663086\n",
            " 10Training MSE: 28.604949951171875\n",
            "Testing MSE : 35.074501037597656\n",
            " 10Training MSE: 25.936994552612305\n",
            "Testing MSE : 31.20791244506836\n",
            " 10Training MSE: 17.28097152709961\n",
            "Testing MSE : 18.26819610595703\n"
          ],
          "name": "stdout"
        }
      ]
    },
    {
      "cell_type": "code",
      "metadata": {
        "id": "3jhMQfovPghG",
        "colab_type": "code",
        "colab": {
          "base_uri": "https://localhost:8080/",
          "height": 295
        },
        "outputId": "607f2617-505b-401c-f651-664a3ff1c592"
      },
      "source": [
        "plt.grid()\n",
        "plt.plot(np.log10(lemda),mse_train)\n",
        "plt.plot(np.log10(lemda),mse_test)\n",
        "plt.title('Lamda VS MSE- Model 1')\n",
        "plt.ylabel('MSE')\n",
        "plt.xlabel('log(Lemda)')\n",
        "plt.legend(['Train MSE','Test MSE'])\n",
        "plt.show()"
      ],
      "execution_count": 12,
      "outputs": [
        {
          "output_type": "display_data",
          "data": {
            "image/png": "[encoded data removed]",
            "text/plain": [
              "<Figure size 432x288 with 1 Axes>"
            ]
          },
          "metadata": {
            "tags": [],
            "needs_background": "light"
          }
        }
      ]
    },
    {
      "cell_type": "markdown",
      "metadata": {
        "id": "-i3Q4-1sp9J6",
        "colab_type": "text"
      },
      "source": [
        "### Calculating epochs vs MSE for best alpha "
      ]
    },
    {
      "cell_type": "code",
      "metadata": {
        "id": "J_sGqc7aSCVR",
        "colab_type": "code",
        "colab": {
          "base_uri": "https://localhost:8080/",
          "height": 185
        },
        "outputId": "f6e12645-0f67-4075-d5cc-31e05bf66f50"
      },
      "source": [
        "index = np.argmin(mse_test)\n",
        "mse_train = []\n",
        "mse_test = []\n",
        "num_folds = 10\n",
        "epochs = 100\n",
        "final_mse = []\n",
        "inputs = np.concatenate((x_train, x_val), axis=0)[2:,:]\n",
        "targets = np.concatenate((y_train, y_val), axis=0)[2:]\n",
        "kfold = KFold(n_splits=num_folds, shuffle=True)\n",
        "fold_no = 1\n",
        "for train, test in kfold.split(inputs, targets):\n",
        "  model = Sequential()\n",
        "  model.add(Dense(5,input_dim=4, activation='relu',kernel_regularizer=regularizers.l2(lemda[index])))\n",
        "  model.add(Dense(1, activation='relu',kernel_regularizer=regularizers.l2(lemda[i])))\n",
        "  model.get_layer(index=0)\n",
        "  model.compile(loss='mse', optimizer='adam', metrics=['mse'])\n",
        "  history_model1 = model.fit(inputs[train], targets[train], epochs=epochs,verbose=0,batch_size=10,validation_data = (inputs[test],targets[test]))    \n",
        "\n",
        "  final_mse.append(history_model1.history['val_mse']);\n",
        "  print(f'Score for fold {fold_no}: {final_mse[fold_no-1][epochs-1]}')\n",
        "  # Increase fold number\n",
        "  fold_no = fold_no + 1\n",
        "\n",
        "ans1 = final_mse"
      ],
      "execution_count": 30,
      "outputs": [
        {
          "output_type": "stream",
          "text": [
            "Score for fold 1: 30.621641159057617\n",
            "Score for fold 2: 23.300430297851562\n",
            "Score for fold 3: 20.233516693115234\n",
            "Score for fold 4: 15.104082107543945\n",
            "Score for fold 5: 35.00912857055664\n",
            "Score for fold 6: 35.60233688354492\n",
            "Score for fold 7: 19.395957946777344\n",
            "Score for fold 8: 89.67477416992188\n",
            "Score for fold 9: 115.77875518798828\n",
            "Score for fold 10: 26.50664520263672\n"
          ],
          "name": "stdout"
        }
      ]
    },
    {
      "cell_type": "code",
      "metadata": {
        "id": "0qZwnTZ0iFZh",
        "colab_type": "code",
        "colab": {
          "base_uri": "https://localhost:8080/",
          "height": 295
        },
        "outputId": "5f1d042b-e99c-483c-dcbb-8a005710bc14"
      },
      "source": [
        "plt.grid()\n",
        "plt.plot(np.mean(ans1, axis=0))\n",
        "plt.title('Validation loss history')\n",
        "plt.ylabel('Loss value')\n",
        "plt.xlabel('No. epoch')\n",
        "plt.show()"
      ],
      "execution_count": 31,
      "outputs": [
        {
          "output_type": "display_data",
          "data": {
            "image/png": "[encoded data removed]",
            "text/plain": [
              "<Figure size 432x288 with 1 Axes>"
            ]
          },
          "metadata": {
            "tags": [],
            "needs_background": "light"
          }
        }
      ]
    },
    {
      "cell_type": "markdown",
      "metadata": {
        "id": "mTBG1UJlnp4O",
        "colab_type": "text"
      },
      "source": [
        "## Model 2"
      ]
    },
    {
      "cell_type": "code",
      "metadata": {
        "id": "K1q4Ef4cnWQW",
        "colab_type": "code",
        "colab": {
          "base_uri": "https://localhost:8080/",
          "height": 252
        },
        "outputId": "3e1b1246-bdea-41a0-a0b5-e5572100ede3"
      },
      "source": [
        "lemda = [1e-6,1e-5,1e-4,1e-3,1e-2,1e-1,1]\n",
        "mse_train = []\n",
        "mse_test = []\n",
        "num_folds = 10\n",
        "epochs = 100\n",
        "\n",
        "for i in range(len(lemda)):\n",
        "\n",
        "  inputs = np.concatenate((x_train, x_val), axis=0)[2:,:]\n",
        "  targets = np.concatenate((y_train, y_val), axis=0)[2:]\n",
        "  kfold = KFold(n_splits=num_folds, shuffle=True)\n",
        "  fold_no = 1\n",
        "  for train, test in kfold.split(inputs, targets):\n",
        "    model = Sequential()\n",
        "    model.add(Dense(10,input_dim=4, activation='relu',kernel_regularizer=regularizers.l2(lemda[i])))\n",
        "    print('\\r',fold_no,end='')\n",
        "    model.add(Dense(1, activation='relu',kernel_regularizer=regularizers.l2(lemda[i])))\n",
        "    model.get_layer(index=0)\n",
        "    model.compile(loss='mse', optimizer='adam', metrics=['mse'])\n",
        "    history_model1 = model.fit(inputs[train], targets[train], epochs=epochs,verbose=0,batch_size=10,validation_data = (inputs[test],targets[test]))    \n",
        "    fold_no = fold_no + 1\n",
        "\n",
        "\n",
        "  mse_train.append(model.evaluate(x_train,y_train,verbose=0)[1])\n",
        "  mse_test.append(model.evaluate(x_test,y_test,verbose=0)[1])\n",
        "\n",
        "  print(\"Training MSE: {}\".format(mse_train[i]))\n",
        "  print(\"Testing MSE : {}\".format(mse_test[i]))"
      ],
      "execution_count": 33,
      "outputs": [
        {
          "output_type": "stream",
          "text": [
            " 10Training MSE: 18.633506774902344\n",
            "Testing MSE : 20.45835304260254\n",
            " 10Training MSE: 23.872011184692383\n",
            "Testing MSE : 28.9536190032959\n",
            " 10Training MSE: 18.39542579650879\n",
            "Testing MSE : 21.335771560668945\n",
            " 10Training MSE: 18.090158462524414\n",
            "Testing MSE : 21.180620193481445\n",
            " 10Training MSE: 16.416433334350586\n",
            "Testing MSE : 17.27387809753418\n",
            " 10Training MSE: 18.08580207824707\n",
            "Testing MSE : 19.599939346313477\n",
            " 10Training MSE: 17.783897399902344\n",
            "Testing MSE : 17.45583152770996\n"
          ],
          "name": "stdout"
        }
      ]
    },
    {
      "cell_type": "code",
      "metadata": {
        "id": "bOVo6XnDpdFK",
        "colab_type": "code",
        "colab": {
          "base_uri": "https://localhost:8080/",
          "height": 295
        },
        "outputId": "35f64d3c-6bb1-4b58-daf7-e2e6decbf48c"
      },
      "source": [
        "plt.grid()\n",
        "plt.plot(np.log10(lemda),mse_train)\n",
        "plt.plot(np.log10(lemda),mse_test)\n",
        "plt.title('Lamda VS MSE- Model 2')\n",
        "plt.ylabel('MSE')\n",
        "plt.xlabel('log(Lemda)')\n",
        "plt.legend(['Train MSE','Test MSE'])\n",
        "plt.show()"
      ],
      "execution_count": 34,
      "outputs": [
        {
          "output_type": "display_data",
          "data": {
            "image/png": "[encoded data removed]",
            "text/plain": [
              "<Figure size 432x288 with 1 Axes>"
            ]
          },
          "metadata": {
            "tags": [],
            "needs_background": "light"
          }
        }
      ]
    },
    {
      "cell_type": "markdown",
      "metadata": {
        "id": "Qjs-ORJdqFGN",
        "colab_type": "text"
      },
      "source": [
        "### Calculating epochs vs MSE for best alpha "
      ]
    },
    {
      "cell_type": "code",
      "metadata": {
        "id": "DXHeCTqrnzQD",
        "colab_type": "code",
        "colab": {
          "base_uri": "https://localhost:8080/",
          "height": 185
        },
        "outputId": "1e7affeb-9d5a-401a-d5fb-0ee3a919b21e"
      },
      "source": [
        "index = np.argmin(mse_test)\n",
        "mse_train = []\n",
        "mse_test = []\n",
        "num_folds = 10\n",
        "epochs = 100\n",
        "final_mse = []\n",
        "inputs = np.concatenate((x_train, x_val), axis=0)[2:,:]\n",
        "targets = np.concatenate((y_train, y_val), axis=0)[2:]\n",
        "kfold = KFold(n_splits=num_folds, shuffle=True)\n",
        "fold_no = 1\n",
        "for train, test in kfold.split(inputs, targets):\n",
        "  model = Sequential()\n",
        "  model.add(Dense(10,input_dim=4, activation='relu',kernel_regularizer=regularizers.l2(lemda[index])))\n",
        "  model.add(Dense(1, activation='relu',kernel_regularizer=regularizers.l2(lemda[i])))\n",
        "  model.get_layer(index=0)\n",
        "  model.compile(loss='mse', optimizer='adam', metrics=['mse'])\n",
        "  history_model1 = model.fit(inputs[train], targets[train], epochs=epochs,verbose=0,batch_size=10,validation_data = (inputs[test],targets[test]))    \n",
        "\n",
        "  final_mse.append(history_model1.history['val_mse']);\n",
        "  print(f'Score for fold {fold_no}: {final_mse[fold_no-1][epochs-1]}')\n",
        "  # Increase fold number\n",
        "  fold_no = fold_no + 1\n",
        "\n",
        "ans2 = final_mse"
      ],
      "execution_count": 35,
      "outputs": [
        {
          "output_type": "stream",
          "text": [
            "Score for fold 1: 36.262611389160156\n",
            "Score for fold 2: 19.798507690429688\n",
            "Score for fold 3: 10.560051918029785\n",
            "Score for fold 4: 23.893131256103516\n",
            "Score for fold 5: 18.71951675415039\n",
            "Score for fold 6: 16.43941307067871\n",
            "Score for fold 7: 61.450984954833984\n",
            "Score for fold 8: 21.590442657470703\n",
            "Score for fold 9: 19.913915634155273\n",
            "Score for fold 10: 17.469131469726562\n"
          ],
          "name": "stdout"
        }
      ]
    },
    {
      "cell_type": "code",
      "metadata": {
        "id": "buFiqwLcn6me",
        "colab_type": "code",
        "colab": {
          "base_uri": "https://localhost:8080/",
          "height": 295
        },
        "outputId": "b24cc4ef-3372-4f48-90f4-db6d4616a127"
      },
      "source": [
        "plt.grid()\n",
        "plt.plot(np.mean(ans2, axis=0))\n",
        "plt.title('Validation loss history')\n",
        "plt.ylabel('Loss value')\n",
        "plt.xlabel('No. epoch')\n",
        "plt.show()"
      ],
      "execution_count": 36,
      "outputs": [
        {
          "output_type": "display_data",
          "data": {
            "image/png": "[encoded data removed]",
            "text/plain": [
              "<Figure size 432x288 with 1 Axes>"
            ]
          },
          "metadata": {
            "tags": [],
            "needs_background": "light"
          }
        }
      ]
    },
    {
      "cell_type": "markdown",
      "metadata": {
        "id": "xg5UeZV_qcfW",
        "colab_type": "text"
      },
      "source": [
        "## Model 3"
      ]
    },
    {
      "cell_type": "code",
      "metadata": {
        "id": "dG7BVzmOqe3Y",
        "colab_type": "code",
        "colab": {
          "base_uri": "https://localhost:8080/",
          "height": 252
        },
        "outputId": "41b9033d-41e2-4eaf-c296-8bece8321824"
      },
      "source": [
        "lemda = [1e-6,1e-5,1e-4,1e-3,1e-2,1e-1,1]\n",
        "mse_train = []\n",
        "mse_test = []\n",
        "num_folds = 10\n",
        "epochs = 200\n",
        "\n",
        "for i in range(len(lemda)):\n",
        "\n",
        "  inputs = np.concatenate((x_train, x_val), axis=0)[2:,:]\n",
        "  targets = np.concatenate((y_train, y_val), axis=0)[2:]\n",
        "  kfold = KFold(n_splits=num_folds, shuffle=True)\n",
        "  fold_no = 1\n",
        "  for train, test in kfold.split(inputs, targets):\n",
        "    print('\\r',fold_no,end='')\n",
        "    model = Sequential()\n",
        "    model.add(Dense(5,input_dim=4, activation='relu',kernel_regularizer=regularizers.l2(lemda[i])))\n",
        "    model.add(Dense(10, activation='relu',kernel_regularizer=regularizers.l2(lemda[i])))\n",
        "    model.add(Dense(5, activation='relu',kernel_regularizer=regularizers.l2(lemda[i])))\n",
        "    model.add(Dense(1, activation='relu',kernel_regularizer=regularizers.l2(lemda[i])))\n",
        "    model.get_layer(index=0)\n",
        "    model.compile(loss='mse', optimizer='adam', metrics=['mse'])\n",
        "    history_model1 = model.fit(inputs[train], targets[train], epochs=epochs,verbose=0,batch_size=5,validation_data = (inputs[test],targets[test]))    \n",
        "    fold_no = fold_no + 1\n",
        "\n",
        "\n",
        "  mse_train.append(model.evaluate(x_train,y_train,verbose=0)[1])\n",
        "  mse_test.append(model.evaluate(x_test,y_test,verbose=0)[1])\n",
        "\n",
        "  print(\"Training MSE: {}\".format(mse_train[i]))\n",
        "  print(\"Testing MSE : {}\".format(mse_test[i]))"
      ],
      "execution_count": 9,
      "outputs": [
        {
          "output_type": "stream",
          "text": [
            " 10Training MSE: 14.446232795715332\n",
            "Testing MSE : 14.335582733154297\n",
            " 10Training MSE: 14.60412883758545\n",
            "Testing MSE : 14.247583389282227\n",
            " 10Training MSE: 14.216059684753418\n",
            "Testing MSE : 14.495016098022461\n",
            " 10Training MSE: 14.54174518585205\n",
            "Testing MSE : 14.96682357788086\n",
            " 10Training MSE: 14.74628734588623\n",
            "Testing MSE : 15.139400482177734\n",
            " 10Training MSE: 14.721247673034668\n",
            "Testing MSE : 14.988183975219727\n",
            " 10Training MSE: 15.520511627197266\n",
            "Testing MSE : 14.864786148071289\n"
          ],
          "name": "stdout"
        }
      ]
    },
    {
      "cell_type": "code",
      "metadata": {
        "id": "Z_kAsCjhq0kN",
        "colab_type": "code",
        "colab": {
          "base_uri": "https://localhost:8080/",
          "height": 295
        },
        "outputId": "78c7b3a8-ba29-44b0-a82a-c9b7aade278f"
      },
      "source": [
        "plt.grid()\n",
        "plt.plot(np.log10(lemda),mse_train)\n",
        "plt.plot(np.log10(lemda),mse_test)\n",
        "plt.title('Lamda VS MSE- Model 3')\n",
        "plt.ylabel('MSE')\n",
        "plt.xlabel('log(Lemda)')\n",
        "plt.legend(['Train MSE','Test MSE'])\n",
        "plt.show()"
      ],
      "execution_count": 10,
      "outputs": [
        {
          "output_type": "display_data",
          "data": {
            "image/png": "[encoded data removed]",
            "text/plain": [
              "<Figure size 432x288 with 1 Axes>"
            ]
          },
          "metadata": {
            "tags": [],
            "needs_background": "light"
          }
        }
      ]
    },
    {
      "cell_type": "markdown",
      "metadata": {
        "id": "YWvy05hHFngc",
        "colab_type": "text"
      },
      "source": [
        "### Calculating epochs vs MSE for best alpha "
      ]
    },
    {
      "cell_type": "code",
      "metadata": {
        "id": "ICVeRV0lq4vv",
        "colab_type": "code",
        "colab": {
          "base_uri": "https://localhost:8080/",
          "height": 185
        },
        "outputId": "fa86f974-2b1c-45d1-a8b0-d36ac08ff3b0"
      },
      "source": [
        "index = np.argmin(mse_test)\n",
        "mse_train = []\n",
        "mse_test = []\n",
        "num_folds = 10\n",
        "epochs = 100\n",
        "final_mse = []\n",
        "inputs = np.concatenate((x_train, x_val), axis=0)[2:,:]\n",
        "targets = np.concatenate((y_train, y_val), axis=0)[2:]\n",
        "kfold = KFold(n_splits=num_folds, shuffle=True)\n",
        "fold_no = 1\n",
        "for train, test in kfold.split(inputs, targets):\n",
        "  model = Sequential()\n",
        "  model.add(Dense(5,input_dim=4, activation='relu',kernel_regularizer=regularizers.l2(lemda[index])))\n",
        "  model.add(Dense(10, activation='relu',kernel_regularizer=regularizers.l2(lemda[index])))\n",
        "  model.add(Dense(5, activation='relu',kernel_regularizer=regularizers.l2(lemda[index])))\n",
        "  model.add(Dense(1, activation='relu',kernel_regularizer=regularizers.l2(lemda[index])))\n",
        "  model.get_layer(index=0)\n",
        "  model.compile(loss='mse', optimizer='adam', metrics=['mse'])\n",
        "  history_model1 = model.fit(inputs[train], targets[train], epochs=epochs,verbose=0,batch_size=10,validation_data = (inputs[test],targets[test]))    \n",
        "\n",
        "  final_mse.append(history_model1.history['val_mse']);\n",
        "  print(f'Score for fold {fold_no}: {final_mse[fold_no-1][epochs-1]}')\n",
        "  # Increase fold number\n",
        "  fold_no = fold_no + 1\n",
        "\n",
        "ans3 = final_mse"
      ],
      "execution_count": 13,
      "outputs": [
        {
          "output_type": "stream",
          "text": [
            "Score for fold 1: 14.429184913635254\n",
            "Score for fold 2: 11.58686637878418\n",
            "Score for fold 3: 19.790346145629883\n",
            "Score for fold 4: 13.928078651428223\n",
            "Score for fold 5: 18.89752960205078\n",
            "Score for fold 6: 26.69642448425293\n",
            "Score for fold 7: 13.649839401245117\n",
            "Score for fold 8: 10.522804260253906\n",
            "Score for fold 9: 658.7369384765625\n",
            "Score for fold 10: 13.764225006103516\n"
          ],
          "name": "stdout"
        }
      ]
    },
    {
      "cell_type": "code",
      "metadata": {
        "id": "vd61bJwG_0OX",
        "colab_type": "code",
        "colab": {
          "base_uri": "https://localhost:8080/",
          "height": 295
        },
        "outputId": "aa54b85f-e4c7-4c51-9def-7f6b7058b1db"
      },
      "source": [
        "plt.grid()\n",
        "plt.plot(np.mean(ans3, axis=0))\n",
        "plt.title('Validation loss history')\n",
        "plt.ylabel('Loss value')\n",
        "plt.xlabel('No. epoch')\n",
        "plt.show()"
      ],
      "execution_count": 14,
      "outputs": [
        {
          "output_type": "display_data",
          "data": {
            "image/png": "[encoded data removed]",
            "text/plain": [
              "<Figure size 432x288 with 1 Axes>"
            ]
          },
          "metadata": {
            "tags": [],
            "needs_background": "light"
          }
        }
      ]
    },
    {
      "cell_type": "markdown",
      "metadata": {
        "id": "runsBQ-aAzi2",
        "colab_type": "text"
      },
      "source": [
        "# Que: 4"
      ]
    },
    {
      "cell_type": "markdown",
      "metadata": {
        "id": "LY4E0GvsA2IT",
        "colab_type": "text"
      },
      "source": [
        "## Overfit"
      ]
    },
    {
      "cell_type": "code",
      "metadata": {
        "id": "TuLyrUFiA1Md",
        "colab_type": "code",
        "colab": {
          "base_uri": "https://localhost:8080/",
          "height": 50
        },
        "outputId": "0302aaaf-1b2f-4f6f-c80d-ae37fd438acd"
      },
      "source": [
        "model = Sequential()\n",
        "model.add(Dense(5,input_dim=4, activation='relu'))\n",
        "model.add(Dense(100, activation='relu'))\n",
        "model.add(Dense(500, activation='relu'))\n",
        "model.add(Dense(100, activation='relu'))\n",
        "model.add(Dense(100, activation='relu'))\n",
        "model.add(Dense(500, activation='relu'))\n",
        "model.add(Dense(1, activation='relu'))\n",
        "model.get_layer(index=0)\n",
        "model.compile(loss='mse', optimizer='adam', metrics=['mse'])\n",
        "history_model3 = model.fit(x_train, y_train, epochs=500, batch_size=10,verbose=0)\n",
        "\n",
        "mse_train = model.evaluate(x_train,y_train,verbose=0)[1]\n",
        "mse_test = model.evaluate(x_test,y_test,verbose=0)[1]\n",
        "\n",
        "print(\"Training MSE: {}\".format(mse_train))\n",
        "print(\"Testing MSE : {}\".format(mse_test))"
      ],
      "execution_count": 26,
      "outputs": [
        {
          "output_type": "stream",
          "text": [
            "Training MSE: 8.131474494934082\n",
            "Testing MSE : 23.12409019470215\n"
          ],
          "name": "stdout"
        }
      ]
    },
    {
      "cell_type": "markdown",
      "metadata": {
        "id": "Hh42AsaKFQO-",
        "colab_type": "text"
      },
      "source": [
        "## Underfit"
      ]
    },
    {
      "cell_type": "code",
      "metadata": {
        "id": "wYy-6N25BmO7",
        "colab_type": "code",
        "colab": {
          "base_uri": "https://localhost:8080/",
          "height": 50
        },
        "outputId": "357d6fd2-a232-4209-e068-9c3b610bf183"
      },
      "source": [
        "model = Sequential()\n",
        "model.add(Dense(1,input_dim=4, activation='relu'))\n",
        "model.get_layer(index=0)\n",
        "model.compile(loss='mse', optimizer='adam', metrics=['mse'])\n",
        "history_model3 = model.fit(x_train, y_train, epochs=500, batch_size=10,verbose=0)\n",
        "\n",
        "mse_train = model.evaluate(x_train,y_train,verbose=0)[1]\n",
        "mse_test = model.evaluate(x_test,y_test,verbose=0)[1]\n",
        "\n",
        "print(\"Training MSE: {}\".format(mse_train))\n",
        "print(\"Testing MSE : {}\".format(mse_test))"
      ],
      "execution_count": 27,
      "outputs": [
        {
          "output_type": "stream",
          "text": [
            "Training MSE: 129.57273864746094\n",
            "Testing MSE : 133.88209533691406\n"
          ],
          "name": "stdout"
        }
      ]
    }
  ]
}